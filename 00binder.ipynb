{
  "cells": [
    {
      "cell_type": "markdown",
      "metadata": {
        "id": "pT_UXgl9l6UN"
      },
      "source": [
        "# Some learning strategies"
      ]
    },
    {
      "cell_type": "markdown",
      "metadata": {
        "id": "cg0Bsnsgl6UP"
      },
      "source": [
        "\n",
        "1. `Predicting` - using contextual clues to guess at the topic\n",
        "\n",
        "2. `Using selective attention` - paying attention to only what seems important\n",
        "\n",
        "3. `Preparing` - thinking about what one want to communicate in advance\n",
        "\n",
        "4. `Looking ridiculous` - being willing to look foolish in order to complete a task\n",
        "\n",
        "5. `Practicing` \n",
        "\n",
        "6. `Monitoring` - correcting my own tasks for improvement \n",
        "\n",
        "7. `Asking questions` \n",
        "\n",
        "8. `Taking notes` \n",
        "\n",
        "9. `Finding answer in multiple ways`\n",
        "\n",
        "10. `Playing` - experimenting with the current knowledge. "
      ]
    },
    {
      "cell_type": "markdown",
      "metadata": {
        "id": "aXDHSpnbl6UQ"
      },
      "source": [
        "# Páginas para programar python"
      ]
    },
    {
      "cell_type": "markdown",
      "metadata": {
        "id": "Lozrfy8Rl6UQ"
      },
      "source": [
        "1. www.mybinder.org\n",
        "2. www.kaggle.com\n",
        "3. www.jupyter.org/try\n",
        "4. www.replit.com/\n",
        "5. `github jobish` https://mybinder.org/v2/gh/jobish03/jobish03-Visualizacion_de_datos_para_la_toma_de_decisiones/main?filepath=welcome_binder.ipynb\n",
        "\n",
        "    Los paquetes hay que incluir en el archivo `requirements.txt`"
      ]
    },
    {
      "cell_type": "markdown",
      "source": [
        "this !"
      ],
      "metadata": {
        "id": "5rtqI2gxl-a-"
      }
    },
    {
      "cell_type": "code",
      "execution_count": null,
      "metadata": {
        "id": "-FKefai4l6UR"
      },
      "outputs": [],
      "source": [
        ""
      ]
    }
  ],
  "metadata": {
    "kernelspec": {
      "display_name": "Python 3 (ipykernel)",
      "language": "python",
      "name": "python3"
    },
    "language_info": {
      "codemirror_mode": {
        "name": "ipython",
        "version": 3
      },
      "file_extension": ".py",
      "mimetype": "text/x-python",
      "name": "python",
      "nbconvert_exporter": "python",
      "pygments_lexer": "ipython3",
      "version": "3.9.5"
    },
    "colab": {
      "name": "00binder.ipynb",
      "provenance": []
    }
  },
  "nbformat": 4,
  "nbformat_minor": 0
}